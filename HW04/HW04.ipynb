{
 "cells": [
  {
   "cell_type": "markdown",
   "metadata": {},
   "source": [
    "# Q1. 寫一個九九乘法表！"
   ]
  },
  {
   "cell_type": "code",
   "execution_count": 275,
   "metadata": {},
   "outputs": [
    {
     "name": "stdout",
     "output_type": "stream",
     "text": [
      "1 X 1 = 1 \t1 X 2 = 2 \t1 X 3 = 3 \t\n",
      "2 X 1 = 2 \t2 X 2 = 4 \t2 X 3 = 6 \t\n",
      "3 X 1 = 3 \t3 X 2 = 6 \t3 X 3 = 9 \t\n",
      "4 X 1 = 4 \t4 X 2 = 8 \t4 X 3 = 12\t\n",
      "5 X 1 = 5 \t5 X 2 = 10\t5 X 3 = 15\t\n",
      "6 X 1 = 6 \t6 X 2 = 12\t6 X 3 = 18\t\n",
      "7 X 1 = 7 \t7 X 2 = 14\t7 X 3 = 21\t\n",
      "8 X 1 = 8 \t8 X 2 = 16\t8 X 3 = 24\t\n",
      "9 X 1 = 9 \t9 X 2 = 18\t9 X 3 = 27\t\n",
      "\n",
      "\n",
      "1 X 4 = 4 \t1 X 5 = 5 \t1 X 6 = 6 \t\n",
      "2 X 4 = 8 \t2 X 5 = 10\t2 X 6 = 12\t\n",
      "3 X 4 = 12\t3 X 5 = 15\t3 X 6 = 18\t\n",
      "4 X 4 = 16\t4 X 5 = 20\t4 X 6 = 24\t\n",
      "5 X 4 = 20\t5 X 5 = 25\t5 X 6 = 30\t\n",
      "6 X 4 = 24\t6 X 5 = 30\t6 X 6 = 36\t\n",
      "7 X 4 = 28\t7 X 5 = 35\t7 X 6 = 42\t\n",
      "8 X 4 = 32\t8 X 5 = 40\t8 X 6 = 48\t\n",
      "9 X 4 = 36\t9 X 5 = 45\t9 X 6 = 54\t\n",
      "\n",
      "\n",
      "1 X 7 = 7 \t1 X 8 = 8 \t1 X 9 = 9 \t\n",
      "2 X 7 = 14\t2 X 8 = 16\t2 X 9 = 18\t\n",
      "3 X 7 = 21\t3 X 8 = 24\t3 X 9 = 27\t\n",
      "4 X 7 = 28\t4 X 8 = 32\t4 X 9 = 36\t\n",
      "5 X 7 = 35\t5 X 8 = 40\t5 X 9 = 45\t\n",
      "6 X 7 = 42\t6 X 8 = 48\t6 X 9 = 54\t\n",
      "7 X 7 = 49\t7 X 8 = 56\t7 X 9 = 63\t\n",
      "8 X 7 = 56\t8 X 8 = 64\t8 X 9 = 72\t\n",
      "9 X 7 = 63\t9 X 8 = 72\t9 X 9 = 81\t\n",
      "\n",
      "\n"
     ]
    }
   ],
   "source": [
    "def multiplication_table(m, n):\n",
    "    for i in range(1,10):\n",
    "        for j in range(m,n+1):\n",
    "            product = i*j\n",
    "            print (\"%d X %d = %-2d\\t\" %(i,j,product), end=\"\")\n",
    "        print(\"\")\n",
    "    print(\"\\n\")\n",
    "multiplication_table(1, 3)\n",
    "multiplication_table(4, 6)\n",
    "multiplication_table(7, 9)"
   ]
  },
  {
   "cell_type": "markdown",
   "metadata": {},
   "source": [
    "# Q2. 寫一個可以產生金字塔的函式！"
   ]
  },
  {
   "cell_type": "code",
   "execution_count": 143,
   "metadata": {},
   "outputs": [
    {
     "name": "stdout",
     "output_type": "stream",
     "text": [
      "          *\n",
      "         ***\n",
      "        *****\n",
      "       *******\n",
      "      *********\n",
      "     ***********\n",
      "    *************\n",
      "   ***************\n",
      "  *****************\n",
      " *******************\n"
     ]
    }
   ],
   "source": [
    "def pyramid(n):\n",
    "    for i in range (n):\n",
    "        print (\" \"*(n-i)+\"*\"*(i)*2+\"*\")\n",
    "pyramid(10)"
   ]
  },
  {
   "cell_type": "markdown",
   "metadata": {},
   "source": [
    "# Q3. 將 Q1 跟 Q2 的函式寫入一個模組，並呼叫模組裡面的函式來使用。"
   ]
  },
  {
   "cell_type": "code",
   "execution_count": 3,
   "metadata": {
    "collapsed": true
   },
   "outputs": [],
   "source": [
    "import HW04"
   ]
  },
  {
   "cell_type": "code",
   "execution_count": 4,
   "metadata": {},
   "outputs": [
    {
     "name": "stdout",
     "output_type": "stream",
     "text": [
      "1 X 1 = 1 \t1 X 2 = 2 \t1 X 3 = 3 \t\n",
      "2 X 1 = 2 \t2 X 2 = 4 \t2 X 3 = 6 \t\n",
      "3 X 1 = 3 \t3 X 2 = 6 \t3 X 3 = 9 \t\n",
      "4 X 1 = 4 \t4 X 2 = 8 \t4 X 3 = 12\t\n",
      "5 X 1 = 5 \t5 X 2 = 10\t5 X 3 = 15\t\n",
      "6 X 1 = 6 \t6 X 2 = 12\t6 X 3 = 18\t\n",
      "7 X 1 = 7 \t7 X 2 = 14\t7 X 3 = 21\t\n",
      "8 X 1 = 8 \t8 X 2 = 16\t8 X 3 = 24\t\n",
      "9 X 1 = 9 \t9 X 2 = 18\t9 X 3 = 27\t\n",
      "\n",
      "\n",
      "1 X 4 = 4 \t1 X 5 = 5 \t1 X 6 = 6 \t\n",
      "2 X 4 = 8 \t2 X 5 = 10\t2 X 6 = 12\t\n",
      "3 X 4 = 12\t3 X 5 = 15\t3 X 6 = 18\t\n",
      "4 X 4 = 16\t4 X 5 = 20\t4 X 6 = 24\t\n",
      "5 X 4 = 20\t5 X 5 = 25\t5 X 6 = 30\t\n",
      "6 X 4 = 24\t6 X 5 = 30\t6 X 6 = 36\t\n",
      "7 X 4 = 28\t7 X 5 = 35\t7 X 6 = 42\t\n",
      "8 X 4 = 32\t8 X 5 = 40\t8 X 6 = 48\t\n",
      "9 X 4 = 36\t9 X 5 = 45\t9 X 6 = 54\t\n",
      "\n",
      "\n",
      "1 X 7 = 7 \t1 X 8 = 8 \t1 X 9 = 9 \t\n",
      "2 X 7 = 14\t2 X 8 = 16\t2 X 9 = 18\t\n",
      "3 X 7 = 21\t3 X 8 = 24\t3 X 9 = 27\t\n",
      "4 X 7 = 28\t4 X 8 = 32\t4 X 9 = 36\t\n",
      "5 X 7 = 35\t5 X 8 = 40\t5 X 9 = 45\t\n",
      "6 X 7 = 42\t6 X 8 = 48\t6 X 9 = 54\t\n",
      "7 X 7 = 49\t7 X 8 = 56\t7 X 9 = 63\t\n",
      "8 X 7 = 56\t8 X 8 = 64\t8 X 9 = 72\t\n",
      "9 X 7 = 63\t9 X 8 = 72\t9 X 9 = 81\t\n",
      "\n",
      "\n"
     ]
    }
   ],
   "source": [
    "HW04.multiplication_table(1, 3)\n",
    "HW04.multiplication_table(4, 6)\n",
    "HW04.multiplication_table(7, 9)"
   ]
  },
  {
   "cell_type": "code",
   "execution_count": 5,
   "metadata": {},
   "outputs": [
    {
     "name": "stdout",
     "output_type": "stream",
     "text": [
      "     *\n",
      "    ***\n",
      "   *****\n",
      "  *******\n",
      " *********\n"
     ]
    }
   ],
   "source": [
    "HW04.pyramid(5)"
   ]
  }
 ],
 "metadata": {
  "kernelspec": {
   "display_name": "Python 3",
   "language": "python",
   "name": "python3"
  },
  "language_info": {
   "codemirror_mode": {
    "name": "ipython",
    "version": 3
   },
   "file_extension": ".py",
   "mimetype": "text/x-python",
   "name": "python",
   "nbconvert_exporter": "python",
   "pygments_lexer": "ipython3",
   "version": "3.6.3"
  }
 },
 "nbformat": 4,
 "nbformat_minor": 2
}
