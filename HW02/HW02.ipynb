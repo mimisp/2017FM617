{
 "cells": [
  {
   "cell_type": "code",
   "execution_count": 27,
   "metadata": {
    "collapsed": true
   },
   "outputs": [],
   "source": [
    "import os #下載模組os.py\n",
    "\n",
    "def main(): #main 主要描述程式的開始。就好比是 Java or C的 main\n",
    "    print ('Hello world!') #印出Hello world\n",
    "\n",
    "    print (\"This is Alice's greeting.\") #印出句子。雙引號也可以引用字串,注意要前後一致。\n",
    "    print ('This is Bob\\'s greeting.') #印出句子。\n",
    "\n",
    "    foo (5, 10) #函數運用\n",
    "\n",
    "    print ('=' *10) #複製字串 印出'=========='\n",
    "    print ('Current working directory is ' + os.getcwd()) #加號連接字串,使用os.getcwd()的模組,返回上一個目錄。\n",
    "\n",
    "\n",
    "    cornter = 0 #變量先被實際化，以便進行統計。\n",
    "    counter += 1\n",
    "\n",
    "    food = ['apples', 'oranges', 'cats'] #內建列表的類型。\n",
    "\n",
    "    for i in food: #假設i是食物。進入迴圈,冒號即結束說明。\n",
    "        print ('I like to eat ' + i) #迴圈中i是我設定的food\n",
    "\n",
    "    print ('Count to ten:')\n",
    "    for i in range(10): #內建函數,返回0~9的數字列表\n",
    "        print (i) #印出i\n",
    "\n",
    "\n",
    "def foo(param1, secondParam): #運用函數,冒號表示結束\n",
    "    res = param1 + secondParam #字串輸出\n",
    "\n",
    "    print ('%S plus %S is equal to %S')\n",
    "\n",
    "    if res < 50: #判斷假設res<50 #判斷句和C語言相同，用冒号结束判断语句，使用if elif else。\n",
    "        print ('foo') #符合上述條件,即印出foo\n",
    "\n",
    "    elif (res >= 50) and ((paraml == 42) or (secondParam ==24)): #邏輯運算不使用&&和||\n",
    "        print ('bar') #符合上述條件,即印出bar\n",
    "\n",
    "    else:\n",
    "        print ('moo') #都不符合條件,即印出moo\n",
    "\n",
    "    return res #This is a one-line comment. #單行註解。\n",
    "'''A multi-line string, but can also be a multi-line comment.''' #多行註解,使用'''進行縮行即可。\n",
    "\n",
    "if __name__ == 'main': #一般在程式最後使用主函數main();而且使用内置的運行程式名來判定。\n",
    "    main() #當程式進行時,並不運行main(),這裡是放置測試的程式代碼。\n"
   ]
  }
 ],
 "metadata": {
  "kernelspec": {
   "display_name": "Python 3",
   "language": "python",
   "name": "python3"
  },
  "language_info": {
   "codemirror_mode": {
    "name": "ipython",
    "version": 3
   },
   "file_extension": ".py",
   "mimetype": "text/x-python",
   "name": "python",
   "nbconvert_exporter": "python",
   "pygments_lexer": "ipython3",
   "version": "3.6.3"
  }
 },
 "nbformat": 4,
 "nbformat_minor": 2
}
