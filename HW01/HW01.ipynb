{
 "cells": [
  {
   "cell_type": "markdown",
   "metadata": {},
   "source": [
    "# HW01\n",
    "\n",
    "## 這個作業主要的目的是希望同學們了解善用模組跟套件可以很容易取得問題的快速解。"
   ]
  },
  {
   "cell_type": "markdown",
   "metadata": {},
   "source": [
    "## Q1. 請使用 python 讀入 Nasdaq 公司資訊！\n",
    "\n",
    "提示：\n",
    "1. 請先找到 Nasdaq Company List 的 .csv 檔的網址。\n",
    "2. 使用 pandas 套件的 read_csv 函式來讀入 .csv 檔。"
   ]
  },
  {
   "cell_type": "code",
   "execution_count": 6,
   "metadata": {
    "collapsed": true
   },
   "outputs": [],
   "source": [
    "import pandas as pd"
   ]
  },
  {
   "cell_type": "code",
   "execution_count": 7,
   "metadata": {
    "collapsed": true
   },
   "outputs": [],
   "source": [
    "url = \"http://www.nasdaq.com/screening/companies-by-industry.aspx?exchange=NASDAQ&render=download\"\n",
    "data = pd.read_csv(url)"
   ]
  },
  {
   "cell_type": "code",
   "execution_count": 8,
   "metadata": {},
   "outputs": [
    {
     "data": {
      "text/html": [
       "<div>\n",
       "<style>\n",
       "    .dataframe thead tr:only-child th {\n",
       "        text-align: right;\n",
       "    }\n",
       "\n",
       "    .dataframe thead th {\n",
       "        text-align: left;\n",
       "    }\n",
       "\n",
       "    .dataframe tbody tr th {\n",
       "        vertical-align: top;\n",
       "    }\n",
       "</style>\n",
       "<table border=\"1\" class=\"dataframe\">\n",
       "  <thead>\n",
       "    <tr style=\"text-align: right;\">\n",
       "      <th></th>\n",
       "      <th>Symbol</th>\n",
       "      <th>Name</th>\n",
       "      <th>LastSale</th>\n",
       "      <th>MarketCap</th>\n",
       "      <th>ADR TSO</th>\n",
       "      <th>IPOyear</th>\n",
       "      <th>Sector</th>\n",
       "      <th>Industry</th>\n",
       "      <th>Summary Quote</th>\n",
       "      <th>Unnamed: 9</th>\n",
       "    </tr>\n",
       "  </thead>\n",
       "  <tbody>\n",
       "    <tr>\n",
       "      <th>0</th>\n",
       "      <td>PIH</td>\n",
       "      <td>1347 Property Insurance Holdings, Inc.</td>\n",
       "      <td>7.09</td>\n",
       "      <td>4.223347e+07</td>\n",
       "      <td>n/a</td>\n",
       "      <td>2014</td>\n",
       "      <td>Finance</td>\n",
       "      <td>Property-Casualty Insurers</td>\n",
       "      <td>http://www.nasdaq.com/symbol/pih</td>\n",
       "      <td>NaN</td>\n",
       "    </tr>\n",
       "    <tr>\n",
       "      <th>1</th>\n",
       "      <td>TURN</td>\n",
       "      <td>180 Degree Capital Corp.</td>\n",
       "      <td>1.83</td>\n",
       "      <td>5.695246e+07</td>\n",
       "      <td>n/a</td>\n",
       "      <td>n/a</td>\n",
       "      <td>Finance</td>\n",
       "      <td>Finance/Investors Services</td>\n",
       "      <td>http://www.nasdaq.com/symbol/turn</td>\n",
       "      <td>NaN</td>\n",
       "    </tr>\n",
       "    <tr>\n",
       "      <th>2</th>\n",
       "      <td>FLWS</td>\n",
       "      <td>1-800 FLOWERS.COM, Inc.</td>\n",
       "      <td>9.35</td>\n",
       "      <td>6.066180e+08</td>\n",
       "      <td>n/a</td>\n",
       "      <td>1999</td>\n",
       "      <td>Consumer Services</td>\n",
       "      <td>Other Specialty Stores</td>\n",
       "      <td>http://www.nasdaq.com/symbol/flws</td>\n",
       "      <td>NaN</td>\n",
       "    </tr>\n",
       "    <tr>\n",
       "      <th>3</th>\n",
       "      <td>FCCY</td>\n",
       "      <td>1st Constitution Bancorp (NJ)</td>\n",
       "      <td>17.95</td>\n",
       "      <td>1.448435e+08</td>\n",
       "      <td>n/a</td>\n",
       "      <td>n/a</td>\n",
       "      <td>Finance</td>\n",
       "      <td>Savings Institutions</td>\n",
       "      <td>http://www.nasdaq.com/symbol/fccy</td>\n",
       "      <td>NaN</td>\n",
       "    </tr>\n",
       "    <tr>\n",
       "      <th>4</th>\n",
       "      <td>SRCE</td>\n",
       "      <td>1st Source Corporation</td>\n",
       "      <td>51.35</td>\n",
       "      <td>1.331820e+09</td>\n",
       "      <td>n/a</td>\n",
       "      <td>n/a</td>\n",
       "      <td>Finance</td>\n",
       "      <td>Major Banks</td>\n",
       "      <td>http://www.nasdaq.com/symbol/srce</td>\n",
       "      <td>NaN</td>\n",
       "    </tr>\n",
       "  </tbody>\n",
       "</table>\n",
       "</div>"
      ],
      "text/plain": [
       "  Symbol                                    Name LastSale     MarketCap  \\\n",
       "0    PIH  1347 Property Insurance Holdings, Inc.     7.09  4.223347e+07   \n",
       "1   TURN                180 Degree Capital Corp.     1.83  5.695246e+07   \n",
       "2   FLWS                 1-800 FLOWERS.COM, Inc.     9.35  6.066180e+08   \n",
       "3   FCCY           1st Constitution Bancorp (NJ)    17.95  1.448435e+08   \n",
       "4   SRCE                  1st Source Corporation    51.35  1.331820e+09   \n",
       "\n",
       "  ADR TSO IPOyear             Sector                    Industry  \\\n",
       "0     n/a    2014            Finance  Property-Casualty Insurers   \n",
       "1     n/a     n/a            Finance  Finance/Investors Services   \n",
       "2     n/a    1999  Consumer Services      Other Specialty Stores   \n",
       "3     n/a     n/a            Finance        Savings Institutions   \n",
       "4     n/a     n/a            Finance                 Major Banks   \n",
       "\n",
       "                       Summary Quote  Unnamed: 9  \n",
       "0   http://www.nasdaq.com/symbol/pih         NaN  \n",
       "1  http://www.nasdaq.com/symbol/turn         NaN  \n",
       "2  http://www.nasdaq.com/symbol/flws         NaN  \n",
       "3  http://www.nasdaq.com/symbol/fccy         NaN  \n",
       "4  http://www.nasdaq.com/symbol/srce         NaN  "
      ]
     },
     "execution_count": 8,
     "metadata": {},
     "output_type": "execute_result"
    }
   ],
   "source": [
    "data.head()"
   ]
  },
  {
   "cell_type": "markdown",
   "metadata": {},
   "source": [
    "## Q2. 請使用 python 畫中山大學管理學院周邊地圖！\n",
    "\n",
    "提示：\n",
    "\n",
    "1. 使用 geocoder 套件來找出地址的 GPS 座標。\n",
    "2. 使用 folium 套件來顯示地圖。"
   ]
  },
  {
   "cell_type": "code",
   "execution_count": 10,
   "metadata": {
    "collapsed": true
   },
   "outputs": [],
   "source": [
    "import folium"
   ]
  },
  {
   "cell_type": "code",
   "execution_count": 12,
   "metadata": {
    "collapsed": true
   },
   "outputs": [],
   "source": [
    "import geocoder"
   ]
  },
  {
   "cell_type": "code",
   "execution_count": 95,
   "metadata": {
    "collapsed": true
   },
   "outputs": [],
   "source": [
    "location = geocoder.google('中山大學管理學院').latlng"
   ]
  },
  {
   "cell_type": "code",
   "execution_count": 70,
   "metadata": {
    "collapsed": true
   },
   "outputs": [],
   "source": [
    "location"
   ]
  },
  {
   "cell_type": "code",
   "execution_count": 108,
   "metadata": {},
   "outputs": [
    {
     "data": {
      "text/html": [
       "<div style=\"width:100%;\"><div style=\"position:relative;width:100%;height:0;padding-bottom:60%;\"><iframe src=\"data:text/html;charset=utf-8;base64,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\" style=\"position:absolute;width:100%;height:100%;left:0;top:0;border:none !important;\" allowfullscreen webkitallowfullscreen mozallowfullscreen></iframe></div></div>"
      ],
      "text/plain": [
       "<folium.folium.Map at 0x25f3618a240>"
      ]
     },
     "execution_count": 108,
     "metadata": {},
     "output_type": "execute_result"
    }
   ],
   "source": [
    "folium.Map(location=[22.627447 , 120.265274],\n",
    "           zoom_start=16)"
   ]
  },
  {
   "cell_type": "markdown",
   "metadata": {},
   "source": [
    "## Q3. 請使用 python 將新聞中可能的關鍵詞萃取出來！ (Bonus)\n",
    "\n",
    "提示：\n",
    "\n",
    "1. 使用老師提供的 util.py 來擷取鉅亨網上特定新聞的內容。\n",
    "2. 使用 jieba 套件來擷取關鍵詞。"
   ]
  },
  {
   "cell_type": "code",
   "execution_count": 1,
   "metadata": {},
   "outputs": [],
   "source": [
    "import util"
   ]
  },
  {
   "cell_type": "code",
   "execution_count": 2,
   "metadata": {},
   "outputs": [],
   "source": [
    "news_text = util.get_news_article('https://news.cnyes.com/news/id/3956525')"
   ]
  },
  {
   "cell_type": "code",
   "execution_count": 3,
   "metadata": {},
   "outputs": [
    {
     "data": {
      "text/plain": [
       "'根據 IHS Markit 研調數據顯示，今年第 3 季全球智慧型手機出貨 3.66 億台，年增 6.1%，蘋果新機 iPhone8 及 iPhoneX 上市影響逐步顯現，iPhone 出貨年增 2.6%，前五大品牌廠排名，三星仍然居冠，蘋果居次，其餘則是中國品牌華為、OPPO、小米等，第 3 季出貨皆較去年同期成長。\\nIHS Markit 統計，小米重新擠進全球第五，第 3 季出貨較去年同期增加\\xa0111.2%，出貨量\\xa02760 萬支，略微領先 Vivo，重回前五大，Vivo 則以 2540 萬支，居全球第六，但出貨仍較去年同期成長\\xa020.4%。\\n三星第 3 季智慧手機出貨 8340 萬支，年增 7.7%，全球市占率增至 23%，年增 1 個百分點，由於中國市場逐步被本土品牌占领，三星在中國市場拓展略顯乏力。\\n蘋果第 3 季度智慧手機出貨 4670 萬支，年增 2.6%；在中國區整體收入年增 12%，挽回近期中國市場衰退窘境，在美國則是年增 14%，在歐洲年增 20%，亞洲地區年增 5 %，日本的銷售收入則年減 11%；由於 iPhone 8 在第 3 季度末正式發售，iPhone X 在上周開始銷售，較明顯的出貨貢獻時間將在第 4 季。\\n華為持續穩定守住全球第三，第 3 季智慧手機出貨 3910 萬支，年增 16.4%，全球市占率增至 11%，受惠在本土市場具備品牌優勢，出貨持續领先。\\nOPPO 和 VIVO\\xa0在第 3 季都穩定成長，OPPO 智慧手機出貨 3160 萬支，年增 17.9%；Vivo 出貨 2540 萬支，年增 20.4%；兩個品牌全球市占率分別是 9% 及 % 來看，皆較去年略微成長。\\n'"
      ]
     },
     "execution_count": 3,
     "metadata": {},
     "output_type": "execute_result"
    }
   ],
   "source": [
    "news_text"
   ]
  },
  {
   "cell_type": "code",
   "execution_count": 4,
   "metadata": {
    "collapsed": true
   },
   "outputs": [],
   "source": [
    "import jieba"
   ]
  },
  {
   "cell_type": "code",
   "execution_count": 18,
   "metadata": {},
   "outputs": [],
   "source": [
    "words = jieba.cut(news_text, cut_all=False)"
   ]
  },
  {
   "cell_type": "code",
   "execution_count": 19,
   "metadata": {},
   "outputs": [
    {
     "name": "stdout",
     "output_type": "stream",
     "text": [
      "  Full Mode: 根據/  / IHS/  / Markit/  / 研調/ 數據/ 顯示/ ，/ 今年/ 第/  / 3/  / 季/ 全球/ 智慧型/ 手機/ 出貨/  / 3.66/  / 億台/ ，/ 年增/  / 6.1%/ ，/ 蘋果/ 新機/  / iPhone8/  / 及/  / iPhoneX/  / 上市/ 影響/ 逐步/ 顯現/ ，/ iPhone/  / 出貨年/ 增/  / 2.6%/ ，/ 前/ 五大/ 品牌/ 廠/ 排名/ ，/ 三星/ 仍然/ 居冠/ ，/ 蘋果/ 居次/ ，/ 其餘則/ 是/ 中國/ 品牌/ 華為/ 、/ OPPO/ 、/ 小米/ 等/ ，/ 第/  / 3/  / 季出/ 貨皆較/ 去年同期/ 成長/ 。/ \n",
      "/ IHS/  / Markit/  / 統計/ ，/ 小米/ 重新/ 擠進/ 全球/ 第五/ ，/ 第/  / 3/  / 季出/ 貨較/ 去年同期/ 增加/  / 111.2%/ ，/ 出貨量/  / 2760/  / 萬支/ ，/ 略微/ 領先/  / Vivo/ ，/ 重回/ 前/ 五大/ ，/ Vivo/  / 則以/  / 2540/  / 萬支/ ，/ 居/ 全球/ 第六/ ，/ 但/ 出貨/ 仍/ 較/ 去年同期/ 成長/  / 20.4%/ 。/ \n",
      "/ 三星/ 第/  / 3/  / 季/ 智慧/ 手機/ 出貨/  / 8340/  / 萬支/ ，/ 年增/  / 7.7%/ ，/ 全球/ 市占率/ 增至/  / 23%/ ，/ 年增/  / 1/  / 個/ 百分/ 點/ ，/ 由/ 於/ 中國/ 市場/ 逐步/ 被/ 本土/ 品牌/ 占领/ ，/ 三星/ 在/ 中國/ 市場/ 拓展/ 略顯/ 乏力/ 。/ \n",
      "/ 蘋果/ 第/  / 3/  / 季度/ 智慧/ 手機/ 出貨/  / 4670/  / 萬支/ ，/ 年增/  / 2.6%/ ；/ 在/ 中國區/ 整體/ 收入/ 年增/  / 12%/ ，/ 挽回/ 近期/ 中國/ 市場/ 衰退/ 窘境/ ，/ 在/ 美國則/ 是/ 年/ 增/  / 14%/ ，/ 在/ 歐洲/ 年/ 增/  / 20%/ ，/ 亞洲/ 地區/ 年/ 增/  / 5/  / %/ ，/ 日本/ 的/ 銷售/ 收入/ 則年減/  / 11%/ ；/ 由/ 於/  / iPhone/  / 8/  / 在/ 第/  / 3/  / 季度末/ 正式/ 發售/ ，/ iPhone/  / X/  / 在/ 上周/ 開始/ 銷售/ ，/ 較明顯/ 的/ 出貨/ 貢獻/ 時間/ 將在/ 第/  / 4/  / 季/ 。/ \n",
      "/ 華為/ 持續/ 穩定/ 守住/ 全球/ 第三/ ，/ 第/  / 3/  / 季/ 智慧/ 手機/ 出貨/  / 3910/  / 萬支/ ，/ 年增/  / 16.4%/ ，/ 全球/ 市占率/ 增至/  / 11%/ ，/ 受惠/ 在/ 本土/ 市場/ 具備/ 品牌/ 優勢/ ，/ 出貨持續/ 领先/ 。/ \n",
      "/ OPPO/  / 和/  / VIVO/  / 在/ 第/  / 3/  / 季都/ 穩定/ 成長/ ，/ OPPO/  / 智慧/ 手機/ 出貨/  / 3160/  / 萬支/ ，/ 年增/  / 17.9%/ ；/ Vivo/  / 出貨/  / 2540/  / 萬支/ ，/ 年增/  / 20.4%/ ；/ 兩個/ 品牌/ 全球/ 市占率/ 分別/ 是/  / 9%/  / 及/  / %/  / 來/ 看/ ，/ 皆/ 較/ 去年/ 略微/ 成長/ 。/ \n",
      "\n"
     ]
    }
   ],
   "source": [
    "print(\"  Full Mode: \" + \"/ \".join(words))"
   ]
  },
  {
   "cell_type": "code",
   "execution_count": 10,
   "metadata": {
    "collapsed": true
   },
   "outputs": [],
   "source": [
    "words = jieba.cut(news_text, cut_all=False)"
   ]
  },
  {
   "cell_type": "code",
   "execution_count": 11,
   "metadata": {},
   "outputs": [
    {
     "name": "stdout",
     "output_type": "stream",
     "text": [
      "  Default Mode: 根據/  / IHS/  / Markit/  / 研調/ 數據/ 顯示/ ，/ 今年/ 第/  / 3/  / 季/ 全球/ 智慧型/ 手機/ 出貨/  / 3.66/  / 億台/ ，/ 年增/  / 6.1%/ ，/ 蘋果/ 新機/  / iPhone8/  / 及/  / iPhoneX/  / 上市/ 影響/ 逐步/ 顯現/ ，/ iPhone/  / 出貨年/ 增/  / 2.6%/ ，/ 前/ 五大/ 品牌/ 廠/ 排名/ ，/ 三星/ 仍然/ 居冠/ ，/ 蘋果/ 居次/ ，/ 其餘則/ 是/ 中國/ 品牌/ 華為/ 、/ OPPO/ 、/ 小米/ 等/ ，/ 第/  / 3/  / 季出/ 貨皆較/ 去年同期/ 成長/ 。/ \n",
      "/ IHS/  / Markit/  / 統計/ ，/ 小米/ 重新/ 擠進/ 全球/ 第五/ ，/ 第/  / 3/  / 季出/ 貨較/ 去年同期/ 增加/  / 111.2%/ ，/ 出貨量/  / 2760/  / 萬支/ ，/ 略微/ 領先/  / Vivo/ ，/ 重回/ 前/ 五大/ ，/ Vivo/  / 則以/  / 2540/  / 萬支/ ，/ 居/ 全球/ 第六/ ，/ 但/ 出貨/ 仍/ 較/ 去年同期/ 成長/  / 20.4%/ 。/ \n",
      "/ 三星/ 第/  / 3/  / 季/ 智慧/ 手機/ 出貨/  / 8340/  / 萬支/ ，/ 年增/  / 7.7%/ ，/ 全球/ 市占率/ 增至/  / 23%/ ，/ 年增/  / 1/  / 個/ 百分/ 點/ ，/ 由/ 於/ 中國/ 市場/ 逐步/ 被/ 本土/ 品牌/ 占领/ ，/ 三星/ 在/ 中國/ 市場/ 拓展/ 略顯/ 乏力/ 。/ \n",
      "/ 蘋果/ 第/  / 3/  / 季度/ 智慧/ 手機/ 出貨/  / 4670/  / 萬支/ ，/ 年增/  / 2.6%/ ；/ 在/ 中國區/ 整體/ 收入/ 年增/  / 12%/ ，/ 挽回/ 近期/ 中國/ 市場/ 衰退/ 窘境/ ，/ 在/ 美國則/ 是/ 年/ 增/  / 14%/ ，/ 在/ 歐洲/ 年/ 增/  / 20%/ ，/ 亞洲/ 地區/ 年/ 增/  / 5/  / %/ ，/ 日本/ 的/ 銷售/ 收入/ 則年減/  / 11%/ ；/ 由/ 於/  / iPhone/  / 8/  / 在/ 第/  / 3/  / 季度末/ 正式/ 發售/ ，/ iPhone/  / X/  / 在/ 上周/ 開始/ 銷售/ ，/ 較明顯/ 的/ 出貨/ 貢獻/ 時間/ 將在/ 第/  / 4/  / 季/ 。/ \n",
      "/ 華為/ 持續/ 穩定/ 守住/ 全球/ 第三/ ，/ 第/  / 3/  / 季/ 智慧/ 手機/ 出貨/  / 3910/  / 萬支/ ，/ 年增/  / 16.4%/ ，/ 全球/ 市占率/ 增至/  / 11%/ ，/ 受惠/ 在/ 本土/ 市場/ 具備/ 品牌/ 優勢/ ，/ 出貨持續/ 领先/ 。/ \n",
      "/ OPPO/  / 和/  / VIVO/  / 在/ 第/  / 3/  / 季都/ 穩定/ 成長/ ，/ OPPO/  / 智慧/ 手機/ 出貨/  / 3160/  / 萬支/ ，/ 年增/  / 17.9%/ ；/ Vivo/  / 出貨/  / 2540/  / 萬支/ ，/ 年增/  / 20.4%/ ；/ 兩個/ 品牌/ 全球/ 市占率/ 分別/ 是/  / 9%/  / 及/  / %/  / 來/ 看/ ，/ 皆/ 較/ 去年/ 略微/ 成長/ 。/ \n",
      "\n"
     ]
    }
   ],
   "source": [
    "print(\"  Default Mode: \" + \"/ \".join(words))"
   ]
  },
  {
   "cell_type": "code",
   "execution_count": 13,
   "metadata": {},
   "outputs": [],
   "source": [
    "words = jieba.cut_for_search(news_text)"
   ]
  },
  {
   "cell_type": "code",
   "execution_count": 14,
   "metadata": {},
   "outputs": [
    {
     "name": "stdout",
     "output_type": "stream",
     "text": [
      "  Search Engine Mode: 根據,  , IHS,  , Markit,  , 研調, 數據, 顯示, ，, 今年, 第,  , 3,  , 季, 全球, 智慧, 智慧型, 手機, 出貨,  , 3.66,  , 億台, ，, 年增,  , 6.1%, ，, 蘋果, 新機,  , iPhone8,  , 及,  , iPhoneX,  , 上市, 影響, 逐步, 顯現, ，, iPhone,  , 出貨年, 增,  , 2.6%, ，, 前, 五大, 品牌, 廠, 排名, ，, 三星, 仍然, 居冠, ，, 蘋果, 居次, ，, 其餘則, 是, 中國, 品牌, 華為, 、, OPPO, 、, 小米, 等, ，, 第,  , 3,  , 季出, 貨皆較, 去年, 同期, 去年同期, 成長, 。, \n",
      ", IHS,  , Markit,  , 統計, ，, 小米, 重新, 擠進, 全球, 第五, ，, 第,  , 3,  , 季出, 貨較, 去年, 同期, 去年同期, 增加,  , 111.2%, ，, 出貨量,  , 2760,  , 萬支, ，, 略微, 領先,  , Vivo, ，, 重回, 前, 五大, ，, Vivo,  , 則以,  , 2540,  , 萬支, ，, 居, 全球, 第六, ，, 但, 出貨, 仍, 較, 去年, 同期, 去年同期, 成長,  , 20.4%, 。, \n",
      ", 三星, 第,  , 3,  , 季, 智慧, 手機, 出貨,  , 8340,  , 萬支, ，, 年增,  , 7.7%, ，, 全球, 市占率, 增至,  , 23%, ，, 年增,  , 1,  , 個, 百分, 點, ，, 由, 於, 中國, 市場, 逐步, 被, 本土, 品牌, 占领, ，, 三星, 在, 中國, 市場, 拓展, 略顯, 乏力, 。, \n",
      ", 蘋果, 第,  , 3,  , 季度, 智慧, 手機, 出貨,  , 4670,  , 萬支, ，, 年增,  , 2.6%, ；, 在, 中國區, 整體, 收入, 年增,  , 12%, ，, 挽回, 近期, 中國, 市場, 衰退, 窘境, ，, 在, 美國則, 是, 年, 增,  , 14%, ，, 在, 歐洲, 年, 增,  , 20%, ，, 亞洲, 地區, 年, 增,  , 5,  , %, ，, 日本, 的, 銷售, 收入, 則年減,  , 11%, ；, 由, 於,  , iPhone,  , 8,  , 在, 第,  , 3,  , 季度, 季度末, 正式, 發售, ，, iPhone,  , X,  , 在, 上周, 開始, 銷售, ，, 較明顯, 的, 出貨, 貢獻, 時間, 將在, 第,  , 4,  , 季, 。, \n",
      ", 華為, 持續, 穩定, 守住, 全球, 第三, ，, 第,  , 3,  , 季, 智慧, 手機, 出貨,  , 3910,  , 萬支, ，, 年增,  , 16.4%, ，, 全球, 市占率, 增至,  , 11%, ，, 受惠, 在, 本土, 市場, 具備, 品牌, 優勢, ，, 出貨持續, 领先, 。, \n",
      ", OPPO,  , 和,  , VIVO,  , 在, 第,  , 3,  , 季都, 穩定, 成長, ，, OPPO,  , 智慧, 手機, 出貨,  , 3160,  , 萬支, ，, 年增,  , 17.9%, ；, Vivo,  , 出貨,  , 2540,  , 萬支, ，, 年增,  , 20.4%, ；, 兩個, 品牌, 全球, 市占率, 分別, 是,  , 9%,  , 及,  , %,  , 來, 看, ，, 皆, 較, 去年, 略微, 成長, 。, \n",
      "\n"
     ]
    }
   ],
   "source": [
    "print(\"  Search Engine Mode: \" + \", \".join(words))"
   ]
  }
 ],
 "metadata": {
  "kernelspec": {
   "display_name": "Python 3",
   "language": "python",
   "name": "python3"
  },
  "language_info": {
   "codemirror_mode": {
    "name": "ipython",
    "version": 3
   },
   "file_extension": ".py",
   "mimetype": "text/x-python",
   "name": "python",
   "nbconvert_exporter": "python",
   "pygments_lexer": "ipython3",
   "version": "3.6.3"
  }
 },
 "nbformat": 4,
 "nbformat_minor": 2
}
